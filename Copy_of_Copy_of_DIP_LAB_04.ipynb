{
  "nbformat": 4,
  "nbformat_minor": 0,
  "metadata": {
    "colab": {
      "name": "Copy of Copy of DIP-LAB-04.ipynb",
      "provenance": [],
      "collapsed_sections": [],
      "include_colab_link": true
    },
    "kernelspec": {
      "name": "python3",
      "display_name": "Python 3"
    },
    "language_info": {
      "name": "python"
    }
  },
  "cells": [
    {
      "cell_type": "markdown",
      "metadata": {
        "id": "view-in-github",
        "colab_type": "text"
      },
      "source": [
        "<a href=\"https://colab.research.google.com/github/MOHANGAYEN24/1st-Mid-Term-Exam/blob/main/Copy_of_Copy_of_DIP_LAB_04.ipynb\" target=\"_parent\"><img src=\"https://colab.research.google.com/assets/colab-badge.svg\" alt=\"Open In Colab\"/></a>"
      ]
    },
    {
      "cell_type": "markdown",
      "metadata": {
        "id": "n-aTmo-McM7H"
      },
      "source": [
        "# **CONTENT**\n",
        "1. AIRTHMATIC OPERATIONS ON IMAGE MATRIX\n",
        "         Using Numpy\n",
        "         Using Open Cv\n",
        "2. Image Blending\n",
        "3. Image Masking\n",
        "4. Logical Operations on Image\n",
        "        Logical AND\n",
        "        Logical OR\n",
        "        Logical XOR\n",
        "        Logical NOT\n",
        "\n",
        "\n",
        "\n",
        "\n",
        "\n"
      ]
    },
    {
      "cell_type": "code",
      "metadata": {
        "id": "mYOTxa6KmA-9"
      },
      "source": [
        "import numpy as np\n",
        "import pandas as pd\n",
        "import cv2 as cv\n",
        "from google.colab.patches import cv2_imshow # for image display\n",
        "from skimage import io\n",
        "from PIL import Image \n",
        "import matplotlib.pylab as plt\n",
        "#import matplotlib.image as mpimg \n",
        "#from matplotlib.pyplot import imshow\n",
        "#%matplotlib inline"
      ],
      "execution_count": 1,
      "outputs": []
    },
    {
      "cell_type": "markdown",
      "metadata": {
        "id": "peE2Yn4wku4z"
      },
      "source": [
        "# **AIRTHMATIC OPERATIONS ON IMAGE MATRIX**"
      ]
    },
    {
      "cell_type": "code",
      "metadata": {
        "id": "4lx9bdKpkyAH",
        "colab": {
          "base_uri": "https://localhost:8080/"
        },
        "outputId": "a087d435-734a-4717-c3fd-982054587a48"
      },
      "source": [
        "#  Creating 8-bit array of one element 200\n",
        "x = np.uint16([40000])\n",
        "#  Creating 8-bit array of one element 100\n",
        "y = np.uint16([30000])\n",
        "# Adding our arrays\n",
        "result = x + y\n",
        "print(\"x:'{}' + y:'{}' = '{}'\".format(x, y, result))"
      ],
      "execution_count": 2,
      "outputs": [
        {
          "output_type": "stream",
          "text": [
            "x:'[40000]' + y:'[30000]' = '[4464]'\n"
          ],
          "name": "stdout"
        }
      ]
    },
    {
      "cell_type": "code",
      "metadata": {
        "id": "34BSqbpxlVy8",
        "colab": {
          "base_uri": "https://localhost:8080/"
        },
        "outputId": "c2ad4e36-766f-4f5f-9f04-614579adb6a8"
      },
      "source": [
        "#  Creating 8-bit array of one element 200\n",
        "x = np.uint16([40000])\n",
        "#  Creating 8-bit array of one element 100\n",
        "y = np.uint16([30000])\n",
        "# Adding our arrays with cv2.add()\n",
        "result=cv.add(x,y)\n",
        "print(\"x:'{}' + y:'{}' = '{}'\".format(x, y, result))\n"
      ],
      "execution_count": 3,
      "outputs": [
        {
          "output_type": "stream",
          "text": [
            "x:'[40000]' + y:'[30000]' = '[[65535]]'\n"
          ],
          "name": "stdout"
        }
      ]
    },
    {
      "cell_type": "code",
      "metadata": {
        "id": "-7FLiLKvnRf6",
        "colab": {
          "base_uri": "https://localhost:8080/",
          "height": 93
        },
        "outputId": "12ba67a2-d03e-4933-ff5d-ebf714edf297"
      },
      "source": [
        "A = np.ones( (40,40),dtype='uint32') *3000\n",
        "#print(A)\n",
        "cv2_imshow(A)\n",
        "#plt.imshow(A)\n",
        "'''A[:,0:2] = 128 \n",
        "print(A)\n",
        "\n",
        "B = np.random.randint(0,255,4*4, dtype='uint8')\n",
        "B = B.reshape((4,4))\n",
        "print(B)\n",
        "cv2_imshow(B)\n",
        "sum_cv2 = cv.add(A,B)\n",
        "\n",
        "sum_py = A + B\n",
        "\n",
        "print(\"sum(A,B)\")\n",
        "print(sum_cv2)\n",
        "\n",
        "print(\"A+B\",)\n",
        "print(sum_py)'''"
      ],
      "execution_count": 4,
      "outputs": [
        {
          "output_type": "display_data",
          "data": {
            "image/png": "[encoded data removed]",
            "text/plain": [
              "<PIL.Image.Image image mode=L size=40x40 at 0x7F656D004690>"
            ]
          },
          "metadata": {
            "tags": []
          }
        },
        {
          "output_type": "execute_result",
          "data": {
            "application/vnd.google.colaboratory.intrinsic+json": {
              "type": "string"
            },
            "text/plain": [
              "'A[:,0:2] = 128 \\nprint(A)\\n\\nB = np.random.randint(0,255,4*4, dtype=\\'uint8\\')\\nB = B.reshape((4,4))\\nprint(B)\\ncv2_imshow(B)\\nsum_cv2 = cv.add(A,B)\\n\\nsum_py = A + B\\n\\nprint(\"sum(A,B)\")\\nprint(sum_cv2)\\n\\nprint(\"A+B\",)\\nprint(sum_py)'"
            ]
          },
          "metadata": {
            "tags": []
          },
          "execution_count": 4
        }
      ]
    },
    {
      "cell_type": "markdown",
      "metadata": {
        "id": "e8Eysy9cfib1"
      },
      "source": [
        "# **Image saturation**\n",
        "Operations like addition and subtraction can help us to make images brighter or darker. One way to do this is to create duplicate for our original image with identical pixel values. In other words, we will do this by creating an image that has identical dimensions as our original image with all pixel values 1. Then, we will multiply this image with the appropriate scalar (in our case that is a value 100). In that way we have obtained a gray image. When we add this gray image to the original one, our original image will become brighter. As the resulting images are closer to 255 our image will become brighter. On the other hand, if we subtract the gray image from the original one, the pixel values will decrease and our original image will become darker. If the result of subtracted pixel values is 0, our pixels will become black."
      ]
    },
    {
      "cell_type": "code",
      "metadata": {
        "id": "NPDJ0UrxzKI9",
        "colab": {
          "base_uri": "https://localhost:8080/",
          "height": 361
        },
        "outputId": "e14223d5-f51b-4e4e-aac0-77e6eef52212"
      },
      "source": [
        "#Image saturation\n",
        "img=cv.imread('/content/flowers.jpg')\n",
        "cv2_imshow(img)\n",
        "img_100 = np.ones(img.shape, dtype='uint8') *100\n",
        "cv2_imshow(img_100)\n",
        "\n",
        "img_add = cv.add(img, img_100)\n",
        "img_sub = cv.subtract(img,img_100)\n",
        "\n",
        "cv2_imshow(img_add)\n",
        "cv2_imshow(img_sub)\n",
        "\n",
        "img_add1 = img + img_100\n",
        "cv2_imshow(img_add1)\n",
        " "
      ],
      "execution_count": 5,
      "outputs": [
        {
          "output_type": "error",
          "ename": "AttributeError",
          "evalue": "ignored",
          "traceback": [
            "\u001b[0;31m---------------------------------------------------------------------------\u001b[0m",
            "\u001b[0;31mAttributeError\u001b[0m                            Traceback (most recent call last)",
            "\u001b[0;32m<ipython-input-5-34ac011d5d90>\u001b[0m in \u001b[0;36m<module>\u001b[0;34m()\u001b[0m\n\u001b[1;32m      1\u001b[0m \u001b[0;31m#Image saturation\u001b[0m\u001b[0;34m\u001b[0m\u001b[0;34m\u001b[0m\u001b[0;34m\u001b[0m\u001b[0m\n\u001b[1;32m      2\u001b[0m \u001b[0mimg\u001b[0m\u001b[0;34m=\u001b[0m\u001b[0mcv\u001b[0m\u001b[0;34m.\u001b[0m\u001b[0mimread\u001b[0m\u001b[0;34m(\u001b[0m\u001b[0;34m'/content/flowers.jpg'\u001b[0m\u001b[0;34m)\u001b[0m\u001b[0;34m\u001b[0m\u001b[0;34m\u001b[0m\u001b[0m\n\u001b[0;32m----> 3\u001b[0;31m \u001b[0mcv2_imshow\u001b[0m\u001b[0;34m(\u001b[0m\u001b[0mimg\u001b[0m\u001b[0;34m)\u001b[0m\u001b[0;34m\u001b[0m\u001b[0;34m\u001b[0m\u001b[0m\n\u001b[0m\u001b[1;32m      4\u001b[0m \u001b[0mimg_100\u001b[0m \u001b[0;34m=\u001b[0m \u001b[0mnp\u001b[0m\u001b[0;34m.\u001b[0m\u001b[0mones\u001b[0m\u001b[0;34m(\u001b[0m\u001b[0mimg\u001b[0m\u001b[0;34m.\u001b[0m\u001b[0mshape\u001b[0m\u001b[0;34m,\u001b[0m \u001b[0mdtype\u001b[0m\u001b[0;34m=\u001b[0m\u001b[0;34m'uint8'\u001b[0m\u001b[0;34m)\u001b[0m \u001b[0;34m*\u001b[0m\u001b[0;36m100\u001b[0m\u001b[0;34m\u001b[0m\u001b[0;34m\u001b[0m\u001b[0m\n\u001b[1;32m      5\u001b[0m \u001b[0mcv2_imshow\u001b[0m\u001b[0;34m(\u001b[0m\u001b[0mimg_100\u001b[0m\u001b[0;34m)\u001b[0m\u001b[0;34m\u001b[0m\u001b[0;34m\u001b[0m\u001b[0m\n",
            "\u001b[0;32m/usr/local/lib/python3.7/dist-packages/google/colab/patches/__init__.py\u001b[0m in \u001b[0;36mcv2_imshow\u001b[0;34m(a)\u001b[0m\n\u001b[1;32m     20\u001b[0m       \u001b[0mimage\u001b[0m\u001b[0;34m.\u001b[0m\u001b[0;34m\u001b[0m\u001b[0;34m\u001b[0m\u001b[0m\n\u001b[1;32m     21\u001b[0m   \"\"\"\n\u001b[0;32m---> 22\u001b[0;31m   \u001b[0ma\u001b[0m \u001b[0;34m=\u001b[0m \u001b[0ma\u001b[0m\u001b[0;34m.\u001b[0m\u001b[0mclip\u001b[0m\u001b[0;34m(\u001b[0m\u001b[0;36m0\u001b[0m\u001b[0;34m,\u001b[0m \u001b[0;36m255\u001b[0m\u001b[0;34m)\u001b[0m\u001b[0;34m.\u001b[0m\u001b[0mastype\u001b[0m\u001b[0;34m(\u001b[0m\u001b[0;34m'uint8'\u001b[0m\u001b[0;34m)\u001b[0m\u001b[0;34m\u001b[0m\u001b[0;34m\u001b[0m\u001b[0m\n\u001b[0m\u001b[1;32m     23\u001b[0m   \u001b[0;31m# cv2 stores colors as BGR; convert to RGB\u001b[0m\u001b[0;34m\u001b[0m\u001b[0;34m\u001b[0m\u001b[0;34m\u001b[0m\u001b[0m\n\u001b[1;32m     24\u001b[0m   \u001b[0;32mif\u001b[0m \u001b[0ma\u001b[0m\u001b[0;34m.\u001b[0m\u001b[0mndim\u001b[0m \u001b[0;34m==\u001b[0m \u001b[0;36m3\u001b[0m\u001b[0;34m:\u001b[0m\u001b[0;34m\u001b[0m\u001b[0;34m\u001b[0m\u001b[0m\n",
            "\u001b[0;31mAttributeError\u001b[0m: 'NoneType' object has no attribute 'clip'"
          ]
        }
      ]
    },
    {
      "cell_type": "markdown",
      "metadata": {
        "id": "2vNjc92Z0MH1"
      },
      "source": [
        "# **Image blending**\n",
        "when we want to give different weights to our images which will give us an impression of transparency.\n",
        "we need to use a function called cv2.addWeighted(). "
      ]
    },
    {
      "cell_type": "code",
      "metadata": {
        "id": "fIrU_QEQ0ctV",
        "colab": {
          "base_uri": "https://localhost:8080/",
          "height": 231
        },
        "outputId": "aa7c711b-c1b3-4489-a858-a4748709b8fc"
      },
      "source": [
        "img1=cv.imread('/content/GoT-768x435.jpg')\n",
        "cv2_imshow(img1)\n",
        "img2=cv.imread('/content/logo.png')\n",
        "cv2_imshow(img2)\n",
        "img3=cv.imread('/content/flowers.jpg')\n",
        "cv2_imshow(img3)\n",
        "\n",
        "img_1 = np.ones(img1.shape, dtype = \"uint8\") \n",
        "#img_2 = np.zeros(img1.shape, dtype = \"uint8\") *128\n",
        "\n",
        "#print(2)\n",
        "#cv2_imshow(img_2)\n",
        "x_offset=100\n",
        "y_offset=100\n",
        "img_1[y_offset:y_offset+img2.shape[0], x_offset:x_offset+img2.shape[1],:] = img2\n",
        "cv2_imshow(img_1)\n",
        "\n",
        "\n",
        "x_offset1=250    #  loction\n",
        "y_offset1=250\n",
        "img_2 = np.ones(img1.shape, dtype = \"uint8\") \n",
        "img_2[y_offset1:y_offset1+img3.shape[0], x_offset1:x_offset1+img3.shape[1],:] = img3\n",
        "cv2_imshow(img_2)"
      ],
      "execution_count": null,
      "outputs": [
        {
          "output_type": "error",
          "ename": "NameError",
          "evalue": "ignored",
          "traceback": [
            "\u001b[0;31m---------------------------------------------------------------------------\u001b[0m",
            "\u001b[0;31mNameError\u001b[0m                                 Traceback (most recent call last)",
            "\u001b[0;32m<ipython-input-1-17bbdb60fcf9>\u001b[0m in \u001b[0;36m<module>\u001b[0;34m()\u001b[0m\n\u001b[0;32m----> 1\u001b[0;31m \u001b[0mimg1\u001b[0m\u001b[0;34m=\u001b[0m\u001b[0mcv\u001b[0m\u001b[0;34m.\u001b[0m\u001b[0mimread\u001b[0m\u001b[0;34m(\u001b[0m\u001b[0;34m'/content/GoT-768x435.jpg'\u001b[0m\u001b[0;34m)\u001b[0m\u001b[0;34m\u001b[0m\u001b[0;34m\u001b[0m\u001b[0m\n\u001b[0m\u001b[1;32m      2\u001b[0m \u001b[0mcv2_imshow\u001b[0m\u001b[0;34m(\u001b[0m\u001b[0mimg1\u001b[0m\u001b[0;34m)\u001b[0m\u001b[0;34m\u001b[0m\u001b[0;34m\u001b[0m\u001b[0m\n\u001b[1;32m      3\u001b[0m \u001b[0mimg2\u001b[0m\u001b[0;34m=\u001b[0m\u001b[0mcv\u001b[0m\u001b[0;34m.\u001b[0m\u001b[0mimread\u001b[0m\u001b[0;34m(\u001b[0m\u001b[0;34m'/content/logo.png'\u001b[0m\u001b[0;34m)\u001b[0m\u001b[0;34m\u001b[0m\u001b[0;34m\u001b[0m\u001b[0m\n\u001b[1;32m      4\u001b[0m \u001b[0mcv2_imshow\u001b[0m\u001b[0;34m(\u001b[0m\u001b[0mimg2\u001b[0m\u001b[0;34m)\u001b[0m\u001b[0;34m\u001b[0m\u001b[0;34m\u001b[0m\u001b[0m\n\u001b[1;32m      5\u001b[0m \u001b[0mimg3\u001b[0m\u001b[0;34m=\u001b[0m\u001b[0mcv\u001b[0m\u001b[0;34m.\u001b[0m\u001b[0mimread\u001b[0m\u001b[0;34m(\u001b[0m\u001b[0;34m'/content/flowers.jpg'\u001b[0m\u001b[0;34m)\u001b[0m\u001b[0;34m\u001b[0m\u001b[0;34m\u001b[0m\u001b[0m\n",
            "\u001b[0;31mNameError\u001b[0m: name 'cv' is not defined"
          ]
        }
      ]
    },
    {
      "cell_type": "code",
      "metadata": {
        "id": "qrh83vcU42gE",
        "colab": {
          "base_uri": "https://localhost:8080/",
          "height": 231
        },
        "outputId": "12745684-b5b8-4160-86c2-6b9cd822a845"
      },
      "source": [
        "# Blending our two images\n",
        "alpha = 0.9\n",
        "img_blend=cv.addWeighted(img1, alpha, img_1, 1-alpha,5)\n",
        "cv2_imshow(img_blend)\n",
        "\n",
        "img_blend_1 = cv.addWeighted(img_blend, alpha, img_2, 1-alpha,  0)\n",
        "cv2_imshow(img_blend_1)"
      ],
      "execution_count": null,
      "outputs": [
        {
          "output_type": "error",
          "ename": "NameError",
          "evalue": "ignored",
          "traceback": [
            "\u001b[0;31m---------------------------------------------------------------------------\u001b[0m",
            "\u001b[0;31mNameError\u001b[0m                                 Traceback (most recent call last)",
            "\u001b[0;32m<ipython-input-2-6c3490e8fe9a>\u001b[0m in \u001b[0;36m<module>\u001b[0;34m()\u001b[0m\n\u001b[1;32m      1\u001b[0m \u001b[0;31m# Blending our two images\u001b[0m\u001b[0;34m\u001b[0m\u001b[0;34m\u001b[0m\u001b[0;34m\u001b[0m\u001b[0m\n\u001b[1;32m      2\u001b[0m \u001b[0malpha\u001b[0m \u001b[0;34m=\u001b[0m \u001b[0;36m0.9\u001b[0m\u001b[0;34m\u001b[0m\u001b[0;34m\u001b[0m\u001b[0m\n\u001b[0;32m----> 3\u001b[0;31m \u001b[0mimg_blend\u001b[0m\u001b[0;34m=\u001b[0m\u001b[0mcv\u001b[0m\u001b[0;34m.\u001b[0m\u001b[0maddWeighted\u001b[0m\u001b[0;34m(\u001b[0m\u001b[0mimg1\u001b[0m\u001b[0;34m,\u001b[0m \u001b[0malpha\u001b[0m\u001b[0;34m,\u001b[0m \u001b[0mimg_1\u001b[0m\u001b[0;34m,\u001b[0m \u001b[0;36m1\u001b[0m\u001b[0;34m-\u001b[0m\u001b[0malpha\u001b[0m\u001b[0;34m,\u001b[0m\u001b[0;36m5\u001b[0m\u001b[0;34m)\u001b[0m\u001b[0;34m\u001b[0m\u001b[0;34m\u001b[0m\u001b[0m\n\u001b[0m\u001b[1;32m      4\u001b[0m \u001b[0mcv2_imshow\u001b[0m\u001b[0;34m(\u001b[0m\u001b[0mimg_blend\u001b[0m\u001b[0;34m)\u001b[0m\u001b[0;34m\u001b[0m\u001b[0;34m\u001b[0m\u001b[0m\n\u001b[1;32m      5\u001b[0m \u001b[0;34m\u001b[0m\u001b[0m\n",
            "\u001b[0;31mNameError\u001b[0m: name 'cv' is not defined"
          ]
        }
      ]
    },
    {
      "cell_type": "markdown",
      "metadata": {
        "id": "53frxML3hzYJ"
      },
      "source": [
        "# **Creating Images of same shape**"
      ]
    },
    {
      "cell_type": "code",
      "metadata": {
        "id": "B2HcgOfbijv_",
        "colab": {
          "base_uri": "https://localhost:8080/",
          "height": 451
        },
        "outputId": "db0cb28d-d78b-4362-871d-818292ee79bc"
      },
      "source": [
        "print('RECTANGLE')\n",
        "img_rectangle = np.ones((200,200), dtype = \"uint8\") \n",
        "cv.rectangle(img_rectangle, (20,20), (150,150), (255,255,255), -1)\n",
        "cv2_imshow(img_rectangle)\n",
        "\n",
        "print('CIRCLE')\n",
        "img_circle = np.ones((200,200), dtype = \"uint8\") \n",
        "cv.circle(img_circle, (150,150), 35, (255,255,255), -1)\n",
        "cv2_imshow(img_circle)"
      ],
      "execution_count": null,
      "outputs": [
        {
          "output_type": "stream",
          "text": [
            "RECTANGLE\n"
          ],
          "name": "stdout"
        },
        {
          "output_type": "display_data",
          "data": {
            "image/png": "[encoded data removed]",
            "text/plain": [
              "<PIL.Image.Image image mode=L size=200x200 at 0x7F2B266E4E50>"
            ]
          },
          "metadata": {
            "tags": []
          }
        },
        {
          "output_type": "stream",
          "text": [
            "CIRCLE\n"
          ],
          "name": "stdout"
        },
        {
          "output_type": "display_data",
          "data": {
            "image/png": "[encoded data removed]",
            "text/plain": [
              "<PIL.Image.Image image mode=L size=200x200 at 0x7F2B266D9B50>"
            ]
          },
          "metadata": {
            "tags": []
          }
        }
      ]
    },
    {
      "cell_type": "markdown",
      "metadata": {
        "id": "GCNoabfGkbZB"
      },
      "source": [
        "# ***PERFORMING BITWISE-AND ***"
      ]
    },
    {
      "cell_type": "code",
      "metadata": {
        "id": "VOeQ_eZRjPsJ",
        "colab": {
          "base_uri": "https://localhost:8080/",
          "height": 234
        },
        "outputId": "a5cd5953-70ab-42ad-d102-ff7d0249942a"
      },
      "source": [
        "# Applying a bitwise AND to our rectangle and circle\n",
        "print('BITWISE - AND')\n",
        "bitwiseAnd = cv.bitwise_and(img_rectangle,img_circle)\n",
        "cv2_imshow(bitwiseAnd)"
      ],
      "execution_count": null,
      "outputs": [
        {
          "output_type": "stream",
          "text": [
            "BITWISE - AND\n"
          ],
          "name": "stdout"
        },
        {
          "output_type": "display_data",
          "data": {
            "image/png": "[encoded data removed]",
            "text/plain": [
              "<PIL.Image.Image image mode=L size=200x200 at 0x7F2B266EEF50>"
            ]
          },
          "metadata": {
            "tags": []
          }
        }
      ]
    },
    {
      "cell_type": "markdown",
      "metadata": {
        "id": "wUZu-RgRk2gB"
      },
      "source": [
        "# **PERFORMING BITWISE-OR**"
      ]
    },
    {
      "cell_type": "code",
      "metadata": {
        "id": "aJ5SXEo_kv-H",
        "colab": {
          "base_uri": "https://localhost:8080/",
          "height": 234
        },
        "outputId": "85730892-eb04-42eb-e85a-1055a7c45111"
      },
      "source": [
        "# Applying a bitwise OR to our rectangle and circle\n",
        "print('BITWISE - OR')\n",
        "bitwiseOr = cv.bitwise_or(img_rectangle,img_circle)\n",
        "cv2_imshow(bitwiseOr)"
      ],
      "execution_count": null,
      "outputs": [
        {
          "output_type": "stream",
          "text": [
            "BITWISE - OR\n"
          ],
          "name": "stdout"
        },
        {
          "output_type": "display_data",
          "data": {
            "image/png": "[encoded data removed]",
            "text/plain": [
              "<PIL.Image.Image image mode=L size=200x200 at 0x7FF2960BA650>"
            ]
          },
          "metadata": {
            "tags": []
          }
        }
      ]
    },
    {
      "cell_type": "markdown",
      "metadata": {
        "id": "n36s05Nek5mB"
      },
      "source": [
        "# **PERFORMING BITWISE-XOR**"
      ]
    },
    {
      "cell_type": "code",
      "metadata": {
        "id": "YI3DyX4Ikxag",
        "colab": {
          "base_uri": "https://localhost:8080/",
          "height": 234
        },
        "outputId": "c17462bb-e34b-4326-b56c-76479f5676ba"
      },
      "source": [
        "# Applying a bitwise XOR to our rectangle and circle\n",
        "print('BITWISE - XOR')\n",
        "bitwiseXor = cv.bitwise_xor(img_rectangle,img_circle)\n",
        "cv2_imshow(bitwiseXor)"
      ],
      "execution_count": null,
      "outputs": [
        {
          "output_type": "stream",
          "text": [
            "BITWISE - XOR\n"
          ],
          "name": "stdout"
        },
        {
          "output_type": "display_data",
          "data": {
            "image/png": "[encoded data removed]",
            "text/plain": [
              "<PIL.Image.Image image mode=L size=200x200 at 0x7FF296092E10>"
            ]
          },
          "metadata": {
            "tags": []
          }
        }
      ]
    },
    {
      "cell_type": "markdown",
      "metadata": {
        "id": "y2FeuqWvk8kw"
      },
      "source": [
        "# **PERFORMING BITWISE-NOT**"
      ]
    },
    {
      "cell_type": "code",
      "metadata": {
        "id": "OnYzyyylkygX",
        "colab": {
          "base_uri": "https://localhost:8080/",
          "height": 450
        },
        "outputId": "cd6da1d4-14f8-4bce-d250-3099b0fa7d06"
      },
      "source": [
        "# Applying a bitwise NOT to our rectangle \n",
        "print('BITWISE - NOT - RECTANGLE')\n",
        "bitwiseNot_rec = cv.bitwise_not(img_rectangle)\n",
        "cv2_imshow(bitwiseNot_rec)\n",
        "\n",
        "# Applying a bitwise NOT to our circle \n",
        "print('BITWISE - NOT - CIRCLE')\n",
        "bitwiseNot_circ = cv.bitwise_not(img_circle)\n",
        "cv2_imshow(bitwiseNot_circ)"
      ],
      "execution_count": null,
      "outputs": [
        {
          "output_type": "stream",
          "text": [
            "BITWISE - NOT - RECTANGLE\n"
          ],
          "name": "stdout"
        },
        {
          "output_type": "display_data",
          "data": {
            "image/png": "[encoded data removed]",
            "text/plain": [
              "<PIL.Image.Image image mode=L size=200x200 at 0x7FF2960C5D90>"
            ]
          },
          "metadata": {
            "tags": []
          }
        },
        {
          "output_type": "stream",
          "text": [
            "BITWISE - NOT - CIRCLE\n"
          ],
          "name": "stdout"
        },
        {
          "output_type": "display_data",
          "data": {
            "image/png": "[encoded data removed]",
            "text/plain": [
              "<PIL.Image.Image image mode=L size=200x200 at 0x7FF2960C5290>"
            ]
          },
          "metadata": {
            "tags": []
          }
        }
      ]
    },
    {
      "cell_type": "markdown",
      "metadata": {
        "id": "LdChGvApg_vV"
      },
      "source": [
        "# **MASKING**"
      ]
    },
    {
      "cell_type": "markdown",
      "metadata": {
        "id": "TOxIFbzfleif"
      },
      "source": [
        "Masking\n",
        "A extremely useful technique in the image processing is masking, which allows us to focus only on the special part or area of the image.\n",
        "\n",
        "So, let’s assume that we want to highlight parts of the image with faces on it and ignore the rest of the image. First, we need to construct our mask. \n",
        "To do that we will create a NumPy array of zeros, with the same size as our original image. Then, we will draw 3 white rectangles on it. The Coordinates of those rectangles will correspond to the position of three faces in our image. And finally, we can apply **cv2.bitwise_and()** function in order to obtain our output. The function will be True if both pixels are greater than zero and in our case those pixels are inside the white rectangle."
      ]
    },
    {
      "cell_type": "code",
      "metadata": {
        "id": "_1oy6elglgVv",
        "colab": {
          "base_uri": "https://localhost:8080/",
          "height": 129
        },
        "outputId": "0b28f53f-51ad-468b-9a93-3a8cc566b773"
      },
      "source": [
        "mask = np.zeros(img1.shape, dtype='uint8')\n",
        "cv2_imshow(mask)\n",
        "mask=cv2.rectangle(mask, () ,() , (,,) ,-1)\n"
      ],
      "execution_count": null,
      "outputs": [
        {
          "output_type": "error",
          "ename": "SyntaxError",
          "evalue": "ignored",
          "traceback": [
            "\u001b[0;36m  File \u001b[0;32m\"<ipython-input-5-9d418aa43785>\"\u001b[0;36m, line \u001b[0;32m3\u001b[0m\n\u001b[0;31m    mask=cv2.rectangle(mask, () ,() , (,,) ,-1)\u001b[0m\n\u001b[0m                                       ^\u001b[0m\n\u001b[0;31mSyntaxError\u001b[0m\u001b[0;31m:\u001b[0m invalid syntax\n"
          ]
        }
      ]
    },
    {
      "cell_type": "code",
      "metadata": {
        "id": "7phjQxEx8D1q"
      },
      "source": [
        "img4 = np.ones((200,200),dtype='uint8')*255\n",
        "\n",
        "cv2_imshow(img4)"
      ],
      "execution_count": null,
      "outputs": []
    },
    {
      "cell_type": "code",
      "metadata": {
        "id": "n_x2Oe0I8PRp"
      },
      "source": [
        ""
      ],
      "execution_count": null,
      "outputs": []
    }
  ]
}